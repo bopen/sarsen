{
 "cells": [
  {
   "cell_type": "code",
   "execution_count": null,
   "id": "94b6ba8a",
   "metadata": {},
   "outputs": [],
   "source": [
    "%load_ext autoreload\n",
    "%autoreload 2\n",
    "\n",
    "%matplotlib inline\n",
    "%config InlineBackend.figure_format = 'retina'\n",
    "\n",
    "import matplotlib.pyplot as plt\n",
    "\n",
    "plt.rcParams[\"figure.figsize\"] = (10, 7)\n",
    "plt.rcParams[\"font.size\"] = 12"
   ]
  },
  {
   "cell_type": "code",
   "execution_count": null,
   "id": "4aac3545",
   "metadata": {
    "scrolled": false
   },
   "outputs": [],
   "source": [
    "import inspect\n",
    "\n",
    "import numpy as np\n",
    "import xarray as xr\n",
    "import xarray_sentinel\n",
    "\n",
    "from sarsen import apps, geocoding, orbit, scene, radiometry\n",
    "\n",
    "# uncomment to check that the code below is in sync with the implementation\n",
    "# print(inspect.getsource(apps.terrain_correction))"
   ]
  },
  {
   "cell_type": "code",
   "execution_count": null,
   "id": "acda080d",
   "metadata": {},
   "outputs": [],
   "source": [
    "from dask.distributed import Client\n",
    "\n",
    "# client = Client()\n",
    "# client"
   ]
  },
  {
   "cell_type": "markdown",
   "id": "c66ab1d4",
   "metadata": {},
   "source": [
    "# define input and load data"
   ]
  },
  {
   "cell_type": "code",
   "execution_count": null,
   "id": "f54eebd4",
   "metadata": {},
   "outputs": [],
   "source": [
    "product_urlpath = (\n",
    "    \"data/S1B_IW_SLC__1SDV_20211223T051121_20211223T051148_030148_039993_BA4B.SAFE/\"\n",
    ")\n",
    "measurement_group = \"IW3/VV\"\n",
    "dem_urlpath = \"data/Rome-10m-DEM.tif\"\n",
    "orbit_group = None\n",
    "calibration_group = None\n",
    "output_urlpath = \"Rome-10m-GTC-SLC.tif\"\n",
    "correct_radiometry = False\n",
    "interp_method = \"nearest\"\n",
    "multilook = None\n",
    "grouping_area_factor = (1.0, 1.0)\n",
    "open_dem_raster_kwargs = {\"chunks\": 1024}\n",
    "chunks = 2048\n",
    "correct_radiometry = \"gamma_nearest\"\n",
    "kwargs = {}"
   ]
  },
  {
   "cell_type": "code",
   "execution_count": null,
   "id": "e470ab3a",
   "metadata": {},
   "outputs": [],
   "source": [
    "!ls -d {product_urlpath}\n",
    "!ls -d {dem_urlpath}"
   ]
  },
  {
   "cell_type": "code",
   "execution_count": null,
   "id": "9106ac6a",
   "metadata": {},
   "outputs": [],
   "source": [
    "orbit_group = orbit_group or f\"{measurement_group}/orbit\"\n",
    "calibration_group = calibration_group or f\"{measurement_group}/calibration\"\n",
    "\n",
    "measurement = xr.open_dataarray(\n",
    "    product_urlpath, engine=\"sentinel-1\", group=measurement_group, chunks=chunks, **kwargs  # type: ignore\n",
    ")\n",
    "\n",
    "dem_raster = scene.open_dem_raster(dem_urlpath, **open_dem_raster_kwargs)\n",
    "\n",
    "orbit_ecef = xr.open_dataset(product_urlpath, engine=\"sentinel-1\", group=orbit_group, **kwargs)  # type: ignore\n",
    "position_ecef = orbit_ecef.position\n",
    "calibration = xr.open_dataset(product_urlpath, engine=\"sentinel-1\", group=calibration_group, **kwargs)  # type: ignore\n",
    "beta_nought_lut = calibration.betaNought\n",
    "\n",
    "if measurement.attrs[\"product_type\"] == \"GRD\":\n",
    "    coordinate_conversion = xr.open_dataset(\n",
    "        product_urlpath,\n",
    "        engine=\"sentinel-1\",\n",
    "        group=f\"{measurement_group}/coordinate_conversion\",\n",
    "        **kwargs,\n",
    "    )  # type: ignore\n",
    "\n",
    "position_ecef"
   ]
  },
  {
   "cell_type": "markdown",
   "id": "d6f99462",
   "metadata": {},
   "source": [
    "# scene"
   ]
  },
  {
   "cell_type": "code",
   "execution_count": null,
   "id": "8d6140db",
   "metadata": {},
   "outputs": [],
   "source": [
    "dem_raster"
   ]
  },
  {
   "cell_type": "code",
   "execution_count": null,
   "id": "5148c7ef",
   "metadata": {},
   "outputs": [],
   "source": [
    "_ = dem_raster.plot()"
   ]
  },
  {
   "cell_type": "code",
   "execution_count": null,
   "id": "b646c73b",
   "metadata": {
    "scrolled": false
   },
   "outputs": [],
   "source": [
    "%%time\n",
    "dem_ecef = xr.map_blocks(scene.convert_to_dem_ecef, dem_raster)\n",
    "dem_ecef = dem_ecef.drop_vars(dem_ecef.rio.grid_mapping)\n",
    "dem_ecef"
   ]
  },
  {
   "cell_type": "code",
   "execution_count": null,
   "id": "d01e41ff",
   "metadata": {},
   "outputs": [],
   "source": [
    "# clean dask templates\n",
    "template_raster = dem_raster.drop_vars(dem_raster.rio.grid_mapping)\n",
    "template_3d = dem_ecef\n",
    "template_3d"
   ]
  },
  {
   "cell_type": "markdown",
   "id": "75e4849d",
   "metadata": {},
   "source": [
    "# acquisition"
   ]
  },
  {
   "cell_type": "code",
   "execution_count": null,
   "id": "702a30cd",
   "metadata": {
    "scrolled": false
   },
   "outputs": [],
   "source": [
    "measurement"
   ]
  },
  {
   "cell_type": "code",
   "execution_count": null,
   "id": "a26c9bff",
   "metadata": {},
   "outputs": [],
   "source": [
    "acquisition_template = xr.Dataset(\n",
    "    data_vars={\n",
    "        \"azimuth_time\": xr.full_like(template_raster, 0, dtype=\"datetime64[ns]\"),\n",
    "        \"slant_range_time\": template_raster,\n",
    "        \"dem_direction\": template_3d,\n",
    "    }\n",
    ")"
   ]
  },
  {
   "cell_type": "code",
   "execution_count": null,
   "id": "2fedbf87",
   "metadata": {
    "scrolled": false
   },
   "outputs": [],
   "source": [
    "%%time\n",
    "acquisition = xr.map_blocks(\n",
    "    apps.simulate_acquisition,\n",
    "    dem_ecef,\n",
    "    kwargs={\"position_ecef\": position_ecef},\n",
    "    template=acquisition_template,\n",
    ")\n",
    "acquisition.dem_direction"
   ]
  },
  {
   "cell_type": "code",
   "execution_count": null,
   "id": "c7ee12d9",
   "metadata": {},
   "outputs": [],
   "source": [
    "%%time\n",
    "beta_nought = xarray_sentinel.calibrate_intensity(measurement, beta_nought_lut)\n",
    "beta_nought"
   ]
  },
  {
   "cell_type": "code",
   "execution_count": null,
   "id": "f26971d1",
   "metadata": {
    "scrolled": false
   },
   "outputs": [],
   "source": [
    "%%time\n",
    "if measurement.attrs[\"product_type\"] == \"GRD\":\n",
    "    ground_range = xarray_sentinel.slant_range_time_to_ground_range(\n",
    "        acquisition.azimuth_time,\n",
    "        acquisition.slant_range_time,\n",
    "        coordinate_conversion,\n",
    "    )\n",
    "    interp_arg = ground_range\n",
    "    interp_dim = \"ground_range\"\n",
    "elif measurement.attrs[\"product_type\"] == \"SLC\":\n",
    "    interp_arg = acquisition.slant_range_time\n",
    "    interp_dim = \"slant_range_time\"\n",
    "    if measurement.attrs[\"mode\"] == \"IW\":\n",
    "        beta_nought = xarray_sentinel.mosaic_slc_iw(beta_nought)\n",
    "else:\n",
    "    raise ValueError(f\"unsupported product_type {measurement.attrs['product_type']}\")\n",
    "\n",
    "interp_arg"
   ]
  },
  {
   "cell_type": "code",
   "execution_count": null,
   "id": "e314045c",
   "metadata": {
    "scrolled": false
   },
   "outputs": [],
   "source": [
    "%%time\n",
    "geocoded = apps.interpolate_measurement(\n",
    "    acquisition.azimuth_time,\n",
    "    interp_arg,\n",
    "    beta_nought,\n",
    "    multilook=multilook,\n",
    "    interp_method=interp_method,\n",
    "    interp_dim=interp_dim,\n",
    ").chunk(dem_raster.chunksizes)\n",
    "\n",
    "geocoded"
   ]
  },
  {
   "cell_type": "code",
   "execution_count": null,
   "id": "93062e30",
   "metadata": {},
   "outputs": [],
   "source": [
    "%%time\n",
    "if correct_radiometry is not None:\n",
    "    grid_parameters = radiometry.azimuth_slant_range_grid(\n",
    "        measurement, coordinate_conversion, grouping_area_factor\n",
    "    )\n",
    "\n",
    "    if correct_radiometry == \"gamma_bilinear\":\n",
    "        gamma_weights = radiometry.gamma_weights_bilinear\n",
    "    elif correct_radiometry == \"gamma_nearest\":\n",
    "        gamma_weights = radiometry.gamma_weights_nearest\n",
    "\n",
    "    weights = xr.map_blocks(\n",
    "        gamma_weights,\n",
    "        dem_ecef,\n",
    "        args=(acquisition,),\n",
    "        kwargs=grid_parameters,\n",
    "        template=template_raster,\n",
    "    )\n",
    "    geocoded = geocoded / weights\n",
    "\n",
    "geocoded"
   ]
  },
  {
   "cell_type": "code",
   "execution_count": null,
   "id": "c36f06e4",
   "metadata": {
    "scrolled": false
   },
   "outputs": [],
   "source": [
    "%%time\n",
    "geocoded.load()"
   ]
  },
  {
   "cell_type": "code",
   "execution_count": null,
   "id": "55740e67",
   "metadata": {
    "scrolled": false
   },
   "outputs": [],
   "source": [
    "%%time\n",
    "geocoded.rio.set_crs(dem_raster.rio.crs)\n",
    "geocoded.rio.to_raster(\n",
    "    output_urlpath,\n",
    "    dtype=np.float32,\n",
    "    tiled=True,\n",
    "    blockxsize=512,\n",
    "    blockysize=512,\n",
    "    compress=\"ZSTD\",\n",
    "    num_threads=\"ALL_CPUS\",\n",
    ")"
   ]
  },
  {
   "cell_type": "code",
   "execution_count": null,
   "id": "4884af2b",
   "metadata": {},
   "outputs": [],
   "source": [
    "%%time\n",
    "_ = geocoded.plot(vmax=0.4)"
   ]
  },
  {
   "cell_type": "code",
   "execution_count": null,
   "id": "85624227",
   "metadata": {},
   "outputs": [],
   "source": []
  }
 ],
 "metadata": {
  "kernelspec": {
   "display_name": "Python 3 (ipykernel)",
   "language": "python",
   "name": "python3"
  },
  "language_info": {
   "codemirror_mode": {
    "name": "ipython",
    "version": 3
   },
   "file_extension": ".py",
   "mimetype": "text/x-python",
   "name": "python",
   "nbconvert_exporter": "python",
   "pygments_lexer": "ipython3",
   "version": "3.10.4"
  }
 },
 "nbformat": 4,
 "nbformat_minor": 5
}
